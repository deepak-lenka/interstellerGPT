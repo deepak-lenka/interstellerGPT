{
  "nbformat": 4,
  "nbformat_minor": 0,
  "metadata": {
    "colab": {
      "provenance": []
    },
    "kernelspec": {
      "name": "python3",
      "display_name": "Python 3"
    },
    "language_info": {
      "name": "python"
    }
  },
  "cells": [
    {
      "cell_type": "code",
      "execution_count": 2,
      "metadata": {
        "colab": {
          "base_uri": "https://localhost:8080/"
        },
        "id": "h5hjCcLDr2WC",
        "outputId": "fa268af6-acec-4882-8609-ede576e7e5bd"
      },
      "outputs": [
        {
          "output_type": "stream",
          "name": "stdout",
          "text": [
            "--2024-03-15 09:21:12--  https://imsdb.com/scripts/Interstellar.html/input.txt\n",
            "Resolving imsdb.com (imsdb.com)... 34.117.166.118\n",
            "Connecting to imsdb.com (imsdb.com)|34.117.166.118|:443... connected.\n",
            "HTTP request sent, awaiting response... 200 OK\n",
            "Length: unspecified [text/html]\n",
            "Saving to: ‘input.txt.1’\n",
            "\n",
            "\rinput.txt.1             [<=>                 ]       0  --.-KB/s               \rinput.txt.1             [ <=>                ] 360.88K  --.-KB/s    in 0.01s   \n",
            "\n",
            "2024-03-15 09:21:12 (30.3 MB/s) - ‘input.txt.1’ saved [369545]\n",
            "\n"
          ]
        }
      ],
      "source": [
        "# We always start with a dataset to train on. Let's download the intersteller movei dataset\n",
        "!wget https://imsdb.com/scripts/Interstellar.html/input.txt"
      ]
    },
    {
      "cell_type": "code",
      "source": [
        "# read it in to inspect it\n",
        "with open('input.txt', 'r', encoding='utf-8') as f:\n",
        "    text = f.read()"
      ],
      "metadata": {
        "id": "O6medjfRsLD9"
      },
      "execution_count": 3,
      "outputs": []
    },
    {
      "cell_type": "code",
      "source": [
        "print(\"length of dataset in characters: \", len(text))"
      ],
      "metadata": {
        "colab": {
          "base_uri": "https://localhost:8080/"
        },
        "id": "6xWI_VyAsN8F",
        "outputId": "e83e8be9-ef17-43b7-a746-f64f3da496d8"
      },
      "execution_count": 5,
      "outputs": [
        {
          "output_type": "stream",
          "name": "stdout",
          "text": [
            "length of dataset in characters:  360766\n"
          ]
        }
      ]
    },
    {
      "cell_type": "code",
      "source": [
        "# let's look at the first 1000 characters\n",
        "print(text[:10000])"
      ],
      "metadata": {
        "colab": {
          "base_uri": "https://localhost:8080/"
        },
        "id": "2c5V0FvqseE0",
        "outputId": "93df065a-0d22-4749-e389-74127d3c6383"
      },
      "execution_count": 6,
      "outputs": [
        {
          "output_type": "stream",
          "name": "stdout",
          "text": [
            "<html>\n",
            "<head>\n",
            "<!-- Google tag (gtag.js) -->\n",
            "<script async src=\"https://www.googletagmanager.com/gtag/js?id=G-W5BXG8HCH3\"></script>\n",
            "<script>\n",
            "  window.dataLayer = window.dataLayer || [];\n",
            "  function gtag(){dataLayer.push(arguments);}\n",
            "  gtag('js', new Date());\n",
            "\n",
            "  gtag('config', 'G-W5BXG8HCH3');\n",
            "</script>\n",
            "\n",
            "<meta name=\"viewport\" content=\"width=device-width, initial-scale=1\" />\n",
            "<meta name=\"HandheldFriendly\" content=\"true\">\n",
            "<meta http-equiv=\"content-type\" content=\"text/html; charset=iso-8859-1\">\n",
            "<meta http-equiv=\"Content-Language\" content=\"EN\">\n",
            "\n",
            "<meta name=objecttype CONTENT=Document>\n",
            "<meta name=ROBOTS CONTENT=\"INDEX, FOLLOW\">\n",
            "<meta name=Subject CONTENT=\"Movie scripts, Film scripts\">\n",
            "<meta name=rating CONTENT=General>\n",
            "<meta name=distribution content=Global>\n",
            "<meta name=revisit-after CONTENT=\"2 days\">\n",
            "\n",
            "<link href=\"/style.css\" rel=\"stylesheet\" type=\"text/css\">\n",
            "\n",
            "</head>\n",
            "\n",
            "<body topmargin=\"0\" bottommargin=\"0\" id=\"mainbody\">\n",
            "\n",
            "<table width=\"99%\" border=\"0\" cellspacing=\"0\" cellpadding=\"0\" class=\"body\">\n",
            "  <tr> \n",
            "    <td valign=\"bottom\" bgcolor=\"#FF0000\"><a href=\"https://imsdb.com\" title=\"The Internet Movie Script Database\"><img src=\"/images/logo_top.gif\" border=\"0\"></a></td>\n",
            "    <td bgcolor=\"#FF0000\">\n",
            "\t<center>\n",
            "\t    <font color=\"#FFFFFF\"><h1>The Internet Movie Script Database (IMSDb)</h1></font>\n",
            "</center>\n",
            "  <tr> \n",
            "    <td background=\"/images/reel.gif\" height=\"13\" colspan=\"2\"><a href=\"https://imsdb.com\" title=\"The Internet Movie Script Database\"><img src=\"/images/logo_middle.gif\" border=\"0\"></a></td>\n",
            "  <tr> \n",
            "    <td width=\"170\" valign=\"top\" class=\"smalltxt\"> <a href=\"https://imsdb.com\" title=\"The Internet Movie Script Database\"><img src=\"/images/logo_bottom.gif\" width=\"170\" border=\"0\"></a> \n",
            "      <br>\n",
            "\t<center><span class=\"smalltxt\">The web's largest <br>movie script resource!</span></center>\n",
            "\t</td>\n",
            "    <td>\t\n",
            "<script async src=\"https://pagead2.googlesyndication.com/pagead/js/adsbygoogle.js?client=ca-pub-9108429103930209\"\n",
            "     crossorigin=\"anonymous\"></script>\n",
            "<!-- IMSDb Leaderboard 2 -->\n",
            "<ins class=\"adsbygoogle\"\n",
            "     style=\"display:inline-block;width:728px;height:90px\"\n",
            "     data-ad-client=\"ca-pub-9108429103930209\"\n",
            "     data-ad-slot=\"7890701658\"></ins>\n",
            "<script>\n",
            "     (adsbygoogle = window.adsbygoogle || []).push({});\n",
            "</script>\n",
            "   </td>\n",
            "  </tr>\n",
            "</table>\n",
            "\n",
            "\n",
            "<br>\n",
            "<table width=\"99%\" border=\"0\" cellspacing=\"0\" cellpadding=\"0\" class=\"body\">\n",
            "  <tr> \n",
            "   \n",
            "    <td width=\"180\" valign=\"top\">\n",
            "\n",
            "<table class=body border=0 cellspacing=0 cellpadding=2 width=\"100%\">\n",
            "<tr> \n",
            "          <td colspan=\"2\" class=heading>Search IMSDb<tr>\n",
            "<form method=\"post\" action=\"/search.php\">\n",
            "            <td width=\"180\"> <div align=\"center\">\n",
            "                <input type=\"text\" name=\"search_query\" maxlength=\"255\" size=\"15\">\n",
            "                <input type=\"submit\" value=\"Go!\" name=\"submit\">\n",
            "              </div></td>\n",
            "</form>\n",
            "</table>\n",
            "\n",
            "<br>\n",
            "<table width=\"100%\" border=0 cellpadding=2 cellspacing=0 class=body>\n",
            "<tr>\n",
            "<td colspan=9 class=heading>Alphabetical\n",
            "<tr align=\"center\">\n",
            "        <td><a href=\"/alphabetical/0\">#</a> \n",
            "        <td><a href=\"/alphabetical/A\">A</a>\n",
            "        <td><a href=\"/alphabetical/B\">B</a>\n",
            "        <td><a href=\"/alphabetical/C\">C</a>\n",
            "        <td><a href=\"/alphabetical/D\">D</a>\n",
            "        <td><a href=\"/alphabetical/E\">E</a>\n",
            "        <td><a href=\"/alphabetical/F\">F</a>\n",
            "        <td><a href=\"/alphabetical/G\">G</a>\n",
            "        <td><a href=\"/alphabetical/H\">H</a><tr align=\"center\"> \n",
            "        <td><a href=\"/alphabetical/I\">I</a>\n",
            "        <td><a href=\"/alphabetical/J\">J</a>\n",
            "        <td><a href=\"/alphabetical/K\">K</a>\n",
            "        <td><a href=\"/alphabetical/L\">L</a>\n",
            "        <td><a href=\"/alphabetical/M\">M</a>\n",
            "        <td><a href=\"/alphabetical/N\">N</a>\n",
            "        <td><a href=\"/alphabetical/O\">O</a>\n",
            "        <td><a href=\"/alphabetical/P\">P</a>\n",
            "        <td><a href=\"/alphabetical/Q\">Q</a><tr align=\"center\"> \n",
            "        <td><a href=\"/alphabetical/R\">R</a>\n",
            "        <td><a href=\"/alphabetical/S\">S</a>\n",
            "        <td><a href=\"/alphabetical/T\">T</a>\n",
            "        <td><a href=\"/alphabetical/U\">U</a>\n",
            "        <td><a href=\"/alphabetical/V\">V</a>\n",
            "        <td><a href=\"/alphabetical/W\">W</a>\n",
            "        <td><a href=\"/alphabetical/X\">X</a>\n",
            "        <td><a href=\"/alphabetical/Y\">Y</a>\n",
            "        <td><a href=\"/alphabetical/Z\">Z</a>\n",
            "</table>\n",
            "<br>\n",
            "<table width=\"100%\" border=0 cellpadding=2 cellspacing=0 class=body>\n",
            "<tr>\n",
            "<td colspan=3 class=heading>Genre\n",
            "<tr> \n",
            "\t<td><a href=\"/genre/Action\">Action</a>\n",
            "\t<td><a href=\"/genre/Adventure\">Adventure</a>\n",
            "\t<td><a href=\"/genre/Animation\">Animation</a><tr>\n",
            "\t<td><a href=\"/genre/Comedy\">Comedy</a>\n",
            "\t<td><a href=\"/genre/Crime\">Crime</a>\n",
            "\t<td><a href=\"/genre/Drama\">Drama</a><tr>\n",
            "\t<td><a href=\"/genre/Family\">Family</a>\n",
            "\t<td><a href=\"/genre/Fantasy\">Fantasy</a>\n",
            "\t<td><a href=\"/genre/Film-Noir\">Film-Noir</a><tr>\n",
            "\t<td><a href=\"/genre/Horror\">Horror</a>\n",
            "\t<td><a href=\"/genre/Musical\">Musical</a>\n",
            "\t<td><a href=\"/genre/Mystery\">Mystery</a><tr>\n",
            "\t<td><a href=\"/genre/Romance\">Romance</a>\n",
            "\t<td><a href=\"/genre/Sci-Fi\">Sci-Fi</a>\n",
            "\t<td><a href=\"/genre/Short\">Short</a><tr>\n",
            "\t<td><a href=\"/genre/Thriller\">Thriller</a>\n",
            "\t<td><a href=\"/genre/War\">War</a>\n",
            "\t<td><a href=\"/genre/Western\">Western</a>\n",
            "</table>\n",
            "\n",
            "<br>\n",
            "<table class=body border=0 cellspacing=0 cellpadding=2 width=\"100%\">\n",
            "<tr> \n",
            " <td colspan=\"2\" class=heading>Sponsor<tr>\n",
            " <td width=\"300\" bgcolor=\"#FFFFFF\">\n",
            " <script type=\"text/javascript\"><!--\n",
            "\te9 = new Object();\n",
            "    e9.size = \"300x250\";\n",
            " //--></script>\n",
            " <script type=\"text/javascript\" src=\"//tags.expo9.exponential.com/tags/IMSDb/ROS/tags.js\"></script>\n",
            " </td>\n",
            "</table>\n",
            "\n",
            "\n",
            "<br>\n",
            "<table width=\"100%\" border=0 cellpadding=2 cellspacing=0 class=body>\n",
            "<tr>\n",
            "<td class=heading>TV Transcripts\n",
            "<tr> \n",
            "\t<td><a href=\"/TV/Futurama.html\">Futurama</a><tr>\n",
            "\t<td><a href=\"/TV/Seinfeld.html\">Seinfeld</a><tr>\n",
            "\t<td><a href=\"/TV/South Park.html\">South Park</a><tr>\n",
            "\t<td><a href=\"/TV/Stargate SG1.html\">Stargate SG-1</a><tr>\n",
            "\t<td><a href=\"/TV/Lost.html\">Lost</a><tr>\n",
            "\t<td><a href=\"/TV/The 4400.html\">The 4400</a>\n",
            "</table>\n",
            "\n",
            "<br>\n",
            "<table width=\"100%\" class=\"body\">\n",
            "<tr>\n",
            "<td colspan=3 class=heading>International\n",
            "<tr> \n",
            "\t<td><a href=\"/language/French\">French scripts</a>\n",
            "</table>\n",
            "\n",
            "<br>\n",
            "<table width=\"100%\" border=0 cellpadding=2 cellspacing=0 class=body>\n",
            "<tr>\n",
            "<td colspan=3 class=heading>Latest Comments\n",
            "<tr>\n",
            "</table>\n",
            "<br>\n",
            "\n",
            "<div align=\"center\"><br><br>\n",
            "      <a href=\"https://imsdb.com/all-scripts.html\">ALL SCRIPTS</a><br><br>\n",
            "</div>\n",
            "\n",
            "<td width=\"10\"></td>\n",
            "<td valign=\"top\">\n",
            "<br>\n",
            " <table width=\"100%\"><tr><td class=\"scrtext\">\n",
            "\n",
            "<pre>\n",
            "                          \n",
            "                         \n",
            "                         \n",
            "<b>                                   INTERSTELLAR\n",
            "</b>\n",
            "                         \n",
            "                         \n",
            "                         \n",
            "                                    Written by\n",
            "                         \n",
            "                                  Jonathan Nolan\n",
            "                         \n",
            "                         \n",
            "\n",
            "\n",
            "                         \n",
            "<b>                                     STORY BY\n",
            "</b>                         \n",
            "                     Jonathan Nolan, Kip Thorne & Lynda Obst\n",
            "\n",
            "\n",
            "                         \n",
            "                         \n",
            "                         \n",
            "                         \n",
            "                         \n",
            "                         \n",
            "<b>                                                         MARCH 12 2008\n",
            "</b>\n",
            "\n",
            "<b>          SPACE.\n",
            "</b>                         \n",
            "          But not the dark lonely corner of it we're used to. This is\n",
            "          a glittering inferno -- the center of a distant galaxy.\n",
            "                         \n",
            "          Suddenly, something TEARS past at incredible speed: a NEUTRON\n",
            "          STAR. It SMASHES headlong through everything it encounters...\n",
            "          planets, stars. Can anything stop this juggernaut?\n",
            "                         \n",
            "          Yes. Something looms at the heart of the galaxy, hidden\n",
            "          inside the blinding starlight, a dark flaw in the fabric of\n",
            "          existence itself: a BLACK HOLE.\n",
            "                         \n",
            "          The neutron star is pulled into the black hole's swirl,\n",
            "          spiraling closer and closer to destruction. Finally, it\n",
            "          contacts the hole's edge and EXPLODES.\n",
            "                         \n",
            "          The EXPLOSION is so powerful that it sends shock waves into\n",
            "          the fabric of space-time itself. We ride one of these waves,\n",
            "          racing back out from the black hole.\n",
            "                         \n",
            "          Suddenly, a portion of the wave disappears down a crystal-\n",
            "          like hole, emerging in a much darker region of the universe --\n",
            "          a backwater that, as the wave races past a giant red planet\n",
            "          with a distinctive eye, we recognize as our own.\n",
            "                         \n",
            "          The wave, now just an infinitesimal ripple, finally reaches\n",
            "          our blue planet. It drops into our atmosphere over North\n",
            "          America, toward the high desert east of the Cascades, and\n",
            "          through the roof of a nondescript warehouse.\n",
            "                         \n",
            "          The wave tickles the atoms in the steel shell of a vacuum\n",
            "          chamber, then dances a tiny jig with a laser beam reflected\n",
            "          in a heavy piece of glass.\n",
            "                         \n",
            "          The wave shoots back out of the building and disappears in\n",
            "          the fractal branches of a tumbleweed resting against a\n",
            "          concrete tube that stretches for miles in the desert.\n",
            "                         \n",
            "          An SUV speeds past the tumbleweed and we follow it till it\n",
            "          parks at another plain-looking building at the opposite end\n",
            "          of the tube. A MAN climbs out of the SUV.\n",
            "                         \n",
            "<b>          INT. CONTROL ROOM, WAREHOUSE -- DAY\n",
            "</b>                         \n",
            "          The man lets himself into a large room that looks like Mission\n",
            "          Control. He pours himself a cup of coffee. It is the weekend\n",
            "          and the place is empty. No one has been there to see the\n",
            "          displays flashing a distinctive shape -- a pulse followed by\n",
            "          a series of echoes.\n",
            "                         \n",
            "          The man looks up at the screen, then DROPS his cup of coffee.\n",
            "                         \n",
            "<b>      \n"
          ]
        }
      ]
    },
    {
      "cell_type": "code",
      "source": [
        "# here are all the unique characters that occur in this text\n",
        "chars = sorted(list(set(text)))\n",
        "vocab_size = len(chars)\n",
        "print(''.join(chars))\n",
        "print(vocab_size)"
      ],
      "metadata": {
        "colab": {
          "base_uri": "https://localhost:8080/"
        },
        "id": "0e-Rbyr8sfM8",
        "outputId": "e493b489-9736-487e-c84b-a9482d531f07"
      },
      "execution_count": 7,
      "outputs": [
        {
          "output_type": "stream",
          "name": "stdout",
          "text": [
            "\t\n",
            " !\"#%&'(),-./0123456789:;<=>?ABCDEFGHIJKLMNOPQRSTUVWXYZ[]_abcdefghijklmnopqrstuvwxyz{|}\n",
            "89\n"
          ]
        }
      ]
    },
    {
      "cell_type": "code",
      "source": [
        "# create a mapping from characters to integers\n",
        "stoi = { ch:i for i,ch in enumerate(chars) }\n",
        "itos = { i:ch for i,ch in enumerate(chars) }\n",
        "encode = lambda s: [stoi[c] for c in s] # encoder: take a string, output a list of integers\n",
        "decode = lambda l: ''.join([itos[i] for i in l]) # decoder: take a list of integers, output a string\n",
        "\n",
        "print(encode(\"hii deepak\"))\n",
        "print(decode(encode(\"hii deepak\")))"
      ],
      "metadata": {
        "colab": {
          "base_uri": "https://localhost:8080/"
        },
        "id": "Yw1LKNCgwjj1",
        "outputId": "2f6be2ee-4536-4caf-b447-e20d99bdf8b4"
      },
      "execution_count": 9,
      "outputs": [
        {
          "output_type": "stream",
          "name": "stdout",
          "text": [
            "[67, 68, 68, 2, 63, 64, 64, 75, 60, 70]\n",
            "hii deepak\n"
          ]
        }
      ]
    },
    {
      "cell_type": "code",
      "source": [
        "# let's now encode the entire text dataset and store it into a torch.Tensor\n",
        "import torch # we use PyTorch: https://pytorch.org\n",
        "data = torch.tensor(encode(text), dtype=torch.long)\n",
        "print(data.shape, data.dtype)\n",
        "print(data[:1000]) # the 1000 characters we looked at earier will to the GPT look like this"
      ],
      "metadata": {
        "colab": {
          "base_uri": "https://localhost:8080/"
        },
        "id": "YJb0OXPwzvqg",
        "outputId": "daa96550-81ef-455e-fae3-4b136b100677"
      },
      "execution_count": 13,
      "outputs": [
        {
          "output_type": "stream",
          "name": "stdout",
          "text": [
            "torch.Size([360766]) torch.int64\n",
            "tensor([27, 67, 79, 72, 71, 29,  1, 27, 67, 64, 60, 63, 29,  1, 27,  3, 12, 12,\n",
            "         2, 37, 74, 74, 66, 71, 64,  2, 79, 60, 66,  2,  9, 66, 79, 60, 66, 13,\n",
            "        69, 78, 10,  2, 12, 12, 29,  1, 27, 78, 62, 77, 68, 75, 79,  2, 60, 78,\n",
            "        84, 73, 62,  2, 78, 77, 62, 28,  4, 67, 79, 79, 75, 78, 25, 14, 14, 82,\n",
            "        82, 82, 13, 66, 74, 74, 66, 71, 64, 79, 60, 66, 72, 60, 73, 60, 66, 64,\n",
            "        77, 13, 62, 74, 72, 14, 66, 79, 60, 66, 14, 69, 78, 30, 68, 63, 28, 37,\n",
            "        12, 53, 20, 32, 54, 37, 23, 38, 33, 38, 18,  4, 29, 27, 14, 78, 62, 77,\n",
            "        68, 75, 79, 29,  1, 27, 78, 62, 77, 68, 75, 79, 29,  1,  2,  2, 82, 68,\n",
            "        73, 63, 74, 82, 13, 63, 60, 79, 60, 42, 60, 84, 64, 77,  2, 28,  2, 82,\n",
            "        68, 73, 63, 74, 82, 13, 63, 60, 79, 60, 42, 60, 84, 64, 77,  2, 87, 87,\n",
            "         2, 57, 58, 26,  1,  2,  2, 65, 80, 73, 62, 79, 68, 74, 73,  2, 66, 79,\n",
            "        60, 66,  9, 10, 86, 63, 60, 79, 60, 42, 60, 84, 64, 77, 13, 75, 80, 78,\n",
            "        67,  9, 60, 77, 66, 80, 72, 64, 73, 79, 78, 10, 26, 88,  1,  2,  2, 66,\n",
            "        79, 60, 66,  9,  8, 69, 78,  8, 11,  2, 73, 64, 82,  2, 34, 60, 79, 64,\n",
            "         9, 10, 10, 26,  1,  1,  2,  2, 66, 79, 60, 66,  9,  8, 62, 74, 73, 65,\n",
            "        68, 66,  8, 11,  2,  8, 37, 12, 53, 20, 32, 54, 37, 23, 38, 33, 38, 18,\n",
            "         8, 10, 26,  1, 27, 14, 78, 62, 77, 68, 75, 79, 29,  1,  1, 27, 72, 64,\n",
            "        79, 60,  2, 73, 60, 72, 64, 28,  4, 81, 68, 64, 82, 75, 74, 77, 79,  4,\n",
            "         2, 62, 74, 73, 79, 64, 73, 79, 28,  4, 82, 68, 63, 79, 67, 28, 63, 64,\n",
            "        81, 68, 62, 64, 12, 82, 68, 63, 79, 67, 11,  2, 68, 73, 68, 79, 68, 60,\n",
            "        71, 12, 78, 62, 60, 71, 64, 28, 16,  4,  2, 14, 29,  1, 27, 72, 64, 79,\n",
            "        60,  2, 73, 60, 72, 64, 28,  4, 38, 60, 73, 63, 67, 64, 71, 63, 36, 77,\n",
            "        68, 64, 73, 63, 71, 84,  4,  2, 62, 74, 73, 79, 64, 73, 79, 28,  4, 79,\n",
            "        77, 80, 64,  4, 29,  1, 27, 72, 64, 79, 60,  2, 67, 79, 79, 75, 12, 64,\n",
            "        76, 80, 68, 81, 28,  4, 62, 74, 73, 79, 64, 73, 79, 12, 79, 84, 75, 64,\n",
            "         4,  2, 62, 74, 73, 79, 64, 73, 79, 28,  4, 79, 64, 83, 79, 14, 67, 79,\n",
            "        72, 71, 26,  2, 62, 67, 60, 77, 78, 64, 79, 28, 68, 78, 74, 12, 23, 23,\n",
            "        20, 24, 12, 16,  4, 29,  1, 27, 72, 64, 79, 60,  2, 67, 79, 79, 75, 12,\n",
            "        64, 76, 80, 68, 81, 28,  4, 33, 74, 73, 79, 64, 73, 79, 12, 42, 60, 73,\n",
            "        66, 80, 60, 66, 64,  4,  2, 62, 74, 73, 79, 64, 73, 79, 28,  4, 35, 44,\n",
            "         4, 29,  1,  1, 27, 72, 64, 79, 60,  2, 73, 60, 72, 64, 28, 74, 61, 69,\n",
            "        64, 62, 79, 79, 84, 75, 64,  2, 33, 45, 44, 50, 35, 44, 50, 28, 34, 74,\n",
            "        62, 80, 72, 64, 73, 79, 29,  1, 27, 72, 64, 79, 60,  2, 73, 60, 72, 64,\n",
            "        28, 48, 45, 32, 45, 50, 49,  2, 33, 45, 44, 50, 35, 44, 50, 28,  4, 39,\n",
            "        44, 34, 35, 54, 11,  2, 36, 45, 42, 42, 45, 53,  4, 29,  1, 27, 72, 64,\n",
            "        79, 60,  2, 73, 60, 72, 64, 28, 49, 80, 61, 69, 64, 62, 79,  2, 33, 45,\n",
            "        44, 50, 35, 44, 50, 28,  4, 43, 74, 81, 68, 64,  2, 78, 62, 77, 68, 75,\n",
            "        79, 78, 11,  2, 36, 68, 71, 72,  2, 78, 62, 77, 68, 75, 79, 78,  4, 29,\n",
            "         1, 27, 72, 64, 79, 60,  2, 73, 60, 72, 64, 28, 77, 60, 79, 68, 73, 66,\n",
            "         2, 33, 45, 44, 50, 35, 44, 50, 28, 37, 64, 73, 64, 77, 60, 71, 29,  1,\n",
            "        27, 72, 64, 79, 60,  2, 73, 60, 72, 64, 28, 63, 68, 78, 79, 77, 68, 61,\n",
            "        80, 79, 68, 74, 73,  2, 62, 74, 73, 79, 64, 73, 79, 28, 37, 71, 74, 61,\n",
            "        60, 71, 29,  1, 27, 72, 64, 79, 60,  2, 73, 60, 72, 64, 28, 77, 64, 81,\n",
            "        68, 78, 68, 79, 12, 60, 65, 79, 64, 77,  2, 33, 45, 44, 50, 35, 44, 50,\n",
            "        28,  4, 17,  2, 63, 60, 84, 78,  4, 29,  1,  1, 27, 71, 68, 73, 70,  2,\n",
            "        67, 77, 64, 65, 28,  4, 14, 78, 79, 84, 71, 64, 13, 62, 78, 78,  4,  2,\n",
            "        77, 64, 71, 28,  4, 78, 79, 84, 71, 64, 78, 67, 64, 64, 79,  4,  2, 79,\n",
            "        84, 75, 64, 28,  4, 79, 64, 83, 79, 14, 62, 78, 78,  4, 29,  1,  1, 27,\n",
            "        14, 67, 64, 60, 63, 29,  1,  1, 27, 61, 74, 63, 84,  2, 79, 74, 75, 72,\n",
            "        60, 77, 66, 68, 73, 28,  4, 15,  4,  2, 61, 74, 79, 79, 74, 72, 72, 60,\n",
            "        77, 66, 68, 73, 28,  4, 15,  4,  2, 68, 63, 28,  4, 72, 60, 68, 73, 61,\n",
            "        74, 63, 84,  4, 29,  1,  1, 27, 79, 60, 61, 71, 64,  2, 82, 68, 63, 79,\n",
            "        67, 28,  4, 24, 24,  6,  4,  2, 61, 74, 77, 63, 64, 77, 28,  4, 15,  4,\n",
            "         2, 62, 64, 71, 71, 78, 75, 60, 62, 68, 73, 66, 28,  4, 15,  4,  2, 62,\n",
            "        64, 71, 71, 75, 60, 63, 63, 68, 73, 66, 28,  4, 15,  4,  2, 62, 71, 60,\n",
            "        78, 78, 28,  4, 61, 74, 63, 84,  4, 29])\n"
          ]
        }
      ]
    },
    {
      "cell_type": "code",
      "source": [
        "# Let's now split up the data into train and validation sets\n",
        "n = int(0.9*len(data)) # first 90% will be train, rest val\n",
        "train_data = data[:n]\n",
        "val_data = data[n:]"
      ],
      "metadata": {
        "id": "f_WIXqxz0lU5"
      },
      "execution_count": 14,
      "outputs": []
    },
    {
      "cell_type": "code",
      "source": [
        "block_size = 8\n",
        "train_data[:block_size+1]"
      ],
      "metadata": {
        "colab": {
          "base_uri": "https://localhost:8080/"
        },
        "id": "TD5Bj8Y6IAD4",
        "outputId": "36e20e43-35fd-4b02-869b-c4939d93fcd2"
      },
      "execution_count": 15,
      "outputs": [
        {
          "output_type": "execute_result",
          "data": {
            "text/plain": [
              "tensor([27, 67, 79, 72, 71, 29,  1, 27, 67])"
            ]
          },
          "metadata": {},
          "execution_count": 15
        }
      ]
    },
    {
      "cell_type": "code",
      "source": [
        "x = train_data[:block_size]\n",
        "y = train_data[1:block_size+1]\n",
        "for t in range(block_size):\n",
        "    context = x[:t+1]\n",
        "    target = y[t]\n",
        "    print(f\"when input is {context} the target: {target}\")"
      ],
      "metadata": {
        "colab": {
          "base_uri": "https://localhost:8080/"
        },
        "id": "9HXDe8vGJCEn",
        "outputId": "6d28e329-5c59-479f-945a-7409ee4a803c"
      },
      "execution_count": 16,
      "outputs": [
        {
          "output_type": "stream",
          "name": "stdout",
          "text": [
            "when input is tensor([27]) the target: 67\n",
            "when input is tensor([27, 67]) the target: 79\n",
            "when input is tensor([27, 67, 79]) the target: 72\n",
            "when input is tensor([27, 67, 79, 72]) the target: 71\n",
            "when input is tensor([27, 67, 79, 72, 71]) the target: 29\n",
            "when input is tensor([27, 67, 79, 72, 71, 29]) the target: 1\n",
            "when input is tensor([27, 67, 79, 72, 71, 29,  1]) the target: 27\n",
            "when input is tensor([27, 67, 79, 72, 71, 29,  1, 27]) the target: 67\n"
          ]
        }
      ]
    },
    {
      "cell_type": "code",
      "source": [
        "torch.manual_seed(1337)\n",
        "batch_size = 4 # how many independent sequences will we process in parallel?\n",
        "block_size = 8 # what is the maximum context length for predictions?\n",
        "\n",
        "def get_batch(split):\n",
        "    # generate a small batch of data of inputs x and targets y\n",
        "    data = train_data if split == 'train' else val_data\n",
        "    ix = torch.randint(len(data) - block_size, (batch_size,))\n",
        "    x = torch.stack([data[i:i+block_size] for i in ix])\n",
        "    y = torch.stack([data[i+1:i+block_size+1] for i in ix])\n",
        "    return x, y\n",
        "\n",
        "xb, yb = get_batch('train')\n",
        "print('inputs:')\n",
        "print(xb.shape)\n",
        "print(xb)\n",
        "print('targets:')\n",
        "print(yb.shape)\n",
        "print(yb)\n",
        "\n",
        "print('----')\n",
        "\n",
        "for b in range(batch_size): # batch dimension\n",
        "    for t in range(block_size): # time dimension\n",
        "        context = xb[b, :t+1]\n",
        "        target = yb[b,t]\n",
        "        print(f\"when input is {context.tolist()} the target: {target}\")"
      ],
      "metadata": {
        "colab": {
          "base_uri": "https://localhost:8080/"
        },
        "id": "Q3k1Czf7LuA9",
        "outputId": "b2b9aae3-0aba-4809-8c72-38c0e2b9b87c"
      },
      "execution_count": 18,
      "outputs": [
        {
          "output_type": "stream",
          "name": "stdout",
          "text": [
            "inputs:\n",
            "torch.Size([4, 8])\n",
            "tensor([[ 2,  2,  2,  2,  2,  2,  2,  2],\n",
            "        [ 2,  2,  2,  2,  2, 45, 73,  2],\n",
            "        [79, 74,  2, 67, 68, 72, 11,  2],\n",
            "        [ 2,  2,  2, 72, 60, 63, 64,  2]])\n",
            "targets:\n",
            "torch.Size([4, 8])\n",
            "tensor([[ 2,  2,  2,  2,  2,  2,  2,  2],\n",
            "        [ 2,  2,  2,  2, 45, 73,  2, 79],\n",
            "        [74,  2, 67, 68, 72, 11,  2, 78],\n",
            "        [ 2,  2, 72, 60, 63, 64,  2, 74]])\n",
            "----\n",
            "when input is [2] the target: 2\n",
            "when input is [2, 2] the target: 2\n",
            "when input is [2, 2, 2] the target: 2\n",
            "when input is [2, 2, 2, 2] the target: 2\n",
            "when input is [2, 2, 2, 2, 2] the target: 2\n",
            "when input is [2, 2, 2, 2, 2, 2] the target: 2\n",
            "when input is [2, 2, 2, 2, 2, 2, 2] the target: 2\n",
            "when input is [2, 2, 2, 2, 2, 2, 2, 2] the target: 2\n",
            "when input is [2] the target: 2\n",
            "when input is [2, 2] the target: 2\n",
            "when input is [2, 2, 2] the target: 2\n",
            "when input is [2, 2, 2, 2] the target: 2\n",
            "when input is [2, 2, 2, 2, 2] the target: 45\n",
            "when input is [2, 2, 2, 2, 2, 45] the target: 73\n",
            "when input is [2, 2, 2, 2, 2, 45, 73] the target: 2\n",
            "when input is [2, 2, 2, 2, 2, 45, 73, 2] the target: 79\n",
            "when input is [79] the target: 74\n",
            "when input is [79, 74] the target: 2\n",
            "when input is [79, 74, 2] the target: 67\n",
            "when input is [79, 74, 2, 67] the target: 68\n",
            "when input is [79, 74, 2, 67, 68] the target: 72\n",
            "when input is [79, 74, 2, 67, 68, 72] the target: 11\n",
            "when input is [79, 74, 2, 67, 68, 72, 11] the target: 2\n",
            "when input is [79, 74, 2, 67, 68, 72, 11, 2] the target: 78\n",
            "when input is [2] the target: 2\n",
            "when input is [2, 2] the target: 2\n",
            "when input is [2, 2, 2] the target: 72\n",
            "when input is [2, 2, 2, 72] the target: 60\n",
            "when input is [2, 2, 2, 72, 60] the target: 63\n",
            "when input is [2, 2, 2, 72, 60, 63] the target: 64\n",
            "when input is [2, 2, 2, 72, 60, 63, 64] the target: 2\n",
            "when input is [2, 2, 2, 72, 60, 63, 64, 2] the target: 74\n"
          ]
        }
      ]
    },
    {
      "cell_type": "code",
      "source": [
        "print(xb) # our input to the transformer"
      ],
      "metadata": {
        "colab": {
          "base_uri": "https://localhost:8080/"
        },
        "id": "qpyyAeIzQjlO",
        "outputId": "b027f0a7-37ee-4d37-cf24-7e24269b0555"
      },
      "execution_count": 19,
      "outputs": [
        {
          "output_type": "stream",
          "name": "stdout",
          "text": [
            "tensor([[ 2,  2,  2,  2,  2,  2,  2,  2],\n",
            "        [ 2,  2,  2,  2,  2, 45, 73,  2],\n",
            "        [79, 74,  2, 67, 68, 72, 11,  2],\n",
            "        [ 2,  2,  2, 72, 60, 63, 64,  2]])\n"
          ]
        }
      ]
    },
    {
      "cell_type": "code",
      "source": [
        "import torch\n",
        "import torch.nn as nn\n",
        "from torch.nn import functional as F\n",
        "torch.manual_seed(1337)\n",
        "\n",
        "class BigramLanguageModel(nn.Module):\n",
        "\n",
        "    def __init__(self, vocab_size):\n",
        "        super().__init__()\n",
        "        # each token directly reads off the logits for the next token from a lookup table\n",
        "        self.token_embedding_table = nn.Embedding(vocab_size, vocab_size)\n",
        "\n",
        "    def forward(self, idx, targets=None):\n",
        "\n",
        "        # idx and targets are both (B,T) tensor of integers\n",
        "        logits = self.token_embedding_table(idx) # (B,T,C)\n",
        "\n",
        "        if targets is None:\n",
        "            loss = None\n",
        "        else:\n",
        "            B, T, C = logits.shape\n",
        "            logits = logits.view(B*T, C)\n",
        "            targets = targets.view(B*T)\n",
        "            loss = F.cross_entropy(logits, targets)\n",
        "\n",
        "        return logits, loss\n",
        "\n",
        "    def generate(self, idx, max_new_tokens):\n",
        "        # idx is (B, T) array of indices in the current context\n",
        "        for _ in range(max_new_tokens):\n",
        "            # get the predictions\n",
        "            logits, loss = self(idx)\n",
        "            # focus only on the last time step\n",
        "            logits = logits[:, -1, :] # becomes (B, C)\n",
        "            # apply softmax to get probabilities\n",
        "            probs = F.softmax(logits, dim=-1) # (B, C)\n",
        "            # sample from the distribution\n",
        "            idx_next = torch.multinomial(probs, num_samples=1) # (B, 1)\n",
        "            # append sampled index to the running sequence\n",
        "            idx = torch.cat((idx, idx_next), dim=1) # (B, T+1)\n",
        "        return idx\n",
        "\n",
        "m = BigramLanguageModel(vocab_size)\n",
        "logits, loss = m(xb, yb)\n",
        "print(logits.shape)\n",
        "print(loss)\n",
        "\n",
        "print(decode(m.generate(idx = torch.zeros((1, 1), dtype=torch.long), max_new_tokens=100)[0].tolist()))\n"
      ],
      "metadata": {
        "colab": {
          "base_uri": "https://localhost:8080/"
        },
        "id": "nql_1ER53oCf",
        "outputId": "33cb3e23-4f74-4d94-b365-27577bd5ee22"
      },
      "execution_count": 20,
      "outputs": [
        {
          "output_type": "stream",
          "name": "stdout",
          "text": [
            "torch.Size([32, 89])\n",
            "tensor(4.6718, grad_fn=<NllLossBackward0>)\n",
            "\t3jEm7(HMFsw!<D6;88X!MGv1%'AgEE%6?_EKG u{BC,ILrEqQ4}5c!66U50OeYsIbRO|Rr!BMVJ-{ui=8n}Wz0}Xtf\"A2ETX:.6J\n"
          ]
        }
      ]
    },
    {
      "cell_type": "code",
      "source": [
        "# create a PyTorch optimizer\n",
        "optimizer = torch.optim.AdamW(m.parameters(), lr=1e-3)"
      ],
      "metadata": {
        "id": "eTyJ8qAaDdiF"
      },
      "execution_count": 21,
      "outputs": []
    },
    {
      "cell_type": "code",
      "source": [
        "batch_size = 32\n",
        "for steps in range(1000): # increase number of steps for good results...\n",
        "\n",
        "    # sample a batch of data\n",
        "    xb, yb = get_batch('train')\n",
        "\n",
        "    # evaluate the loss\n",
        "    logits, loss = m(xb, yb)\n",
        "    optimizer.zero_grad(set_to_none=True)\n",
        "    loss.backward()\n",
        "    optimizer.step()\n",
        "\n",
        "print(loss.item())\n"
      ],
      "metadata": {
        "colab": {
          "base_uri": "https://localhost:8080/"
        },
        "id": "Hs4kI8YdEkQj",
        "outputId": "bc6d04d6-7c88-4b55-ec28-5b0513b88d14"
      },
      "execution_count": 45,
      "outputs": [
        {
          "output_type": "stream",
          "name": "stdout",
          "text": [
            "0.9484730958938599\n"
          ]
        }
      ]
    },
    {
      "cell_type": "code",
      "source": [
        "print(decode(m.generate(idx = torch.zeros((1, 1), dtype=torch.long), max_new_tokens=500)[0].tolist()))"
      ],
      "metadata": {
        "colab": {
          "base_uri": "https://localhost:8080/"
        },
        "id": "EcVIDWAZEtjN",
        "outputId": "31b0f115-69c8-4e51-a020-a8325304a3f5"
      },
      "execution_count": 46,
      "outputs": [
        {
          "output_type": "stream",
          "name": "stdout",
          "text": [
            "\t This this mission\n",
            "           Murph. Thole dunder, sequited them Coomentice lose.\n",
            "                         \n",
            "<b>                          BRAND (CONT'D)\n",
            "</b>           You're need think systed as Ea repopeats to disn't his ned samall, the ublie going grumbs visht with and pictives, they far will for.\n",
            "                         \n",
            "<b>                          COOPER\n",
            "</b>           Tars away.\n",
            "                         \n",
            "<b>                          DOYLE\n",
            "</b>           He dramfers it, out if would him. I\n"
          ]
        }
      ]
    },
    {
      "cell_type": "markdown",
      "source": [
        "## The mathematical trick in self-attention"
      ],
      "metadata": {
        "id": "XinV8nmAnmKN"
      }
    },
    {
      "cell_type": "code",
      "source": [
        "# toy example illustrating how matrix multiplication can be used for a \"weighted aggregation\"\n",
        "torch.manual_seed(42)\n",
        "a = torch.tril(torch.ones(3, 3))\n",
        "a = a / torch.sum(a, 1, keepdim=True)\n",
        "b = torch.randint(0,10,(3,2)).float()\n",
        "c = a @ b\n",
        "print('a=')\n",
        "print(a)\n",
        "print('--')\n",
        "print('b=')\n",
        "print(b)\n",
        "print('--')\n",
        "print('c=')\n",
        "print(c)"
      ],
      "metadata": {
        "colab": {
          "base_uri": "https://localhost:8080/"
        },
        "id": "tukiH-NbRBhA",
        "outputId": "6ba2148c-c6dc-4c55-80ec-9df77b86ede1"
      },
      "execution_count": 47,
      "outputs": [
        {
          "output_type": "stream",
          "name": "stdout",
          "text": [
            "a=\n",
            "tensor([[1.0000, 0.0000, 0.0000],\n",
            "        [0.5000, 0.5000, 0.0000],\n",
            "        [0.3333, 0.3333, 0.3333]])\n",
            "--\n",
            "b=\n",
            "tensor([[2., 7.],\n",
            "        [6., 4.],\n",
            "        [6., 5.]])\n",
            "--\n",
            "c=\n",
            "tensor([[2.0000, 7.0000],\n",
            "        [4.0000, 5.5000],\n",
            "        [4.6667, 5.3333]])\n"
          ]
        }
      ]
    },
    {
      "cell_type": "code",
      "source": [
        "# consider the following toy example:\n",
        "\n",
        "torch.manual_seed(1337)\n",
        "B,T,C = 4,8,2 # batch, time, channels\n",
        "x = torch.randn(B,T,C)\n",
        "x.shape"
      ],
      "metadata": {
        "colab": {
          "base_uri": "https://localhost:8080/"
        },
        "id": "Hs_E24uRE8kr",
        "outputId": "bf29c5a7-8a8a-44f2-8403-fb1dc41ac64c"
      },
      "execution_count": 48,
      "outputs": [
        {
          "output_type": "execute_result",
          "data": {
            "text/plain": [
              "torch.Size([4, 8, 2])"
            ]
          },
          "metadata": {},
          "execution_count": 48
        }
      ]
    },
    {
      "cell_type": "code",
      "source": [
        "# We want x[b,t] = mean_{i<=t} x[b,i]\n",
        "xbow = torch.zeros((B,T,C))\n",
        "for b in range(B):\n",
        "    for t in range(T):\n",
        "        xprev = x[b,:t+1] # (t,C)\n",
        "        xbow[b,t] = torch.mean(xprev, 0)\n"
      ],
      "metadata": {
        "id": "86NuXX0fn7ps"
      },
      "execution_count": 28,
      "outputs": []
    },
    {
      "cell_type": "code",
      "source": [
        "# version 2: using matrix multiply for a weighted aggregation\n",
        "wei = torch.tril(torch.ones(T, T))\n",
        "wei = wei / wei.sum(1, keepdim=True)\n",
        "xbow2 = wei @ x # (B, T, T) @ (B, T, C) ----> (B, T, C)\n",
        "torch.allclose(xbow, xbow2)"
      ],
      "metadata": {
        "colab": {
          "base_uri": "https://localhost:8080/"
        },
        "id": "yhdOAd6-wXkZ",
        "outputId": "6b00d7c0-e8ad-44ed-ed45-763b4cf556da"
      },
      "execution_count": 29,
      "outputs": [
        {
          "output_type": "execute_result",
          "data": {
            "text/plain": [
              "False"
            ]
          },
          "metadata": {},
          "execution_count": 29
        }
      ]
    },
    {
      "cell_type": "code",
      "source": [
        "# version 3: use Softmax\n",
        "tril = torch.tril(torch.ones(T, T))\n",
        "wei = torch.zeros((T,T))\n",
        "wei = wei.masked_fill(tril == 0, float('-inf'))\n",
        "wei = F.softmax(wei, dim=-1)\n",
        "xbow3 = wei @ x\n",
        "torch.allclose(xbow, xbow3)\n"
      ],
      "metadata": {
        "colab": {
          "base_uri": "https://localhost:8080/"
        },
        "id": "wOURrfG-ysoL",
        "outputId": "ccf2f858-e2a7-4125-d10f-5ed6d1031407"
      },
      "execution_count": 30,
      "outputs": [
        {
          "output_type": "execute_result",
          "data": {
            "text/plain": [
              "False"
            ]
          },
          "metadata": {},
          "execution_count": 30
        }
      ]
    },
    {
      "cell_type": "code",
      "source": [
        "# version 4: self-attention!\n",
        "torch.manual_seed(1337)\n",
        "B,T,C = 4,8,32 # batch, time, channels\n",
        "x = torch.randn(B,T,C)\n",
        "\n",
        "# let's see a single Head perform self-attention\n",
        "head_size = 16\n",
        "key = nn.Linear(C, head_size, bias=False)\n",
        "query = nn.Linear(C, head_size, bias=False)\n",
        "value = nn.Linear(C, head_size, bias=False)\n",
        "k = key(x)   # (B, T, 16)\n",
        "q = query(x) # (B, T, 16)\n",
        "wei =  q @ k.transpose(-2, -1) # (B, T, 16) @ (B, 16, T) ---> (B, T, T)\n",
        "\n",
        "tril = torch.tril(torch.ones(T, T))\n",
        "#wei = torch.zeros((T,T))\n",
        "wei = wei.masked_fill(tril == 0, float('-inf'))\n",
        "wei = F.softmax(wei, dim=-1)\n",
        "\n",
        "v = value(x)\n",
        "out = wei @ v\n",
        "#out = wei @ x\n",
        "\n",
        "out.shape"
      ],
      "metadata": {
        "colab": {
          "base_uri": "https://localhost:8080/"
        },
        "id": "EDarxEWIRMKq",
        "outputId": "4c69223e-b8f7-4300-81ab-b117593e0490"
      },
      "execution_count": 31,
      "outputs": [
        {
          "output_type": "execute_result",
          "data": {
            "text/plain": [
              "torch.Size([4, 8, 16])"
            ]
          },
          "metadata": {},
          "execution_count": 31
        }
      ]
    },
    {
      "cell_type": "code",
      "source": [
        "wei[0]"
      ],
      "metadata": {
        "colab": {
          "base_uri": "https://localhost:8080/"
        },
        "id": "vT1hdtzXCjgL",
        "outputId": "21409fb8-3726-41da-c828-d3b4aa6f415c"
      },
      "execution_count": 32,
      "outputs": [
        {
          "output_type": "execute_result",
          "data": {
            "text/plain": [
              "tensor([[1.0000, 0.0000, 0.0000, 0.0000, 0.0000, 0.0000, 0.0000, 0.0000],\n",
              "        [0.1574, 0.8426, 0.0000, 0.0000, 0.0000, 0.0000, 0.0000, 0.0000],\n",
              "        [0.2088, 0.1646, 0.6266, 0.0000, 0.0000, 0.0000, 0.0000, 0.0000],\n",
              "        [0.5792, 0.1187, 0.1889, 0.1131, 0.0000, 0.0000, 0.0000, 0.0000],\n",
              "        [0.0294, 0.1052, 0.0469, 0.0276, 0.7909, 0.0000, 0.0000, 0.0000],\n",
              "        [0.0176, 0.2689, 0.0215, 0.0089, 0.6812, 0.0019, 0.0000, 0.0000],\n",
              "        [0.1691, 0.4066, 0.0438, 0.0416, 0.1048, 0.2012, 0.0329, 0.0000],\n",
              "        [0.0210, 0.0843, 0.0555, 0.2297, 0.0573, 0.0709, 0.2423, 0.2391]],\n",
              "       grad_fn=<SelectBackward0>)"
            ]
          },
          "metadata": {},
          "execution_count": 32
        }
      ]
    },
    {
      "cell_type": "markdown",
      "source": [
        "Notes:\n",
        "- Attention is a **communication mechanism**. Can be seen as nodes in a directed graph looking at each other and aggregating information with a weighted sum from all nodes that point to them, with data-dependent weights.\n",
        "- There is no notion of space. Attention simply acts over a set of vectors. This is why we need to positionally encode tokens.\n",
        "- Each example across batch dimension is of course processed completely independently and never \"talk\" to each other\n",
        "- In an \"encoder\" attention block just delete the single line that does masking with `tril`, allowing all tokens to communicate. This block here is called a \"decoder\" attention block because it has triangular masking, and is usually used in autoregressive settings, like language modeling.\n",
        "- \"self-attention\" just means that the keys and values are produced from the same source as queries. In \"cross-attention\", the queries still get produced from x, but the keys and values come from some other, external source (e.g. an encoder module)\n",
        "- \"Scaled\" attention additional divides `wei` by 1/sqrt(head_size). This makes it so when input Q,K are unit variance, wei will be unit variance too and Softmax will stay diffuse and not saturate too much. Illustration below"
      ],
      "metadata": {
        "id": "M5CvobiQ0pLr"
      }
    },
    {
      "cell_type": "code",
      "source": [
        "k = torch.randn(B,T,head_size)\n",
        "q = torch.randn(B,T,head_size)\n",
        "wei = q @ k.transpose(-2, -1) * head_size**-0.5"
      ],
      "metadata": {
        "id": "4SNbLq5z3oBw"
      },
      "execution_count": 33,
      "outputs": []
    },
    {
      "cell_type": "code",
      "source": [
        "k.var()"
      ],
      "metadata": {
        "colab": {
          "base_uri": "https://localhost:8080/"
        },
        "id": "Nl6I9n9IRTSo",
        "outputId": "94faf5ac-8ee1-4f90-c559-fef1ee909574"
      },
      "execution_count": 34,
      "outputs": [
        {
          "output_type": "execute_result",
          "data": {
            "text/plain": [
              "tensor(1.0449)"
            ]
          },
          "metadata": {},
          "execution_count": 34
        }
      ]
    },
    {
      "cell_type": "code",
      "source": [
        "q.var()"
      ],
      "metadata": {
        "colab": {
          "base_uri": "https://localhost:8080/"
        },
        "id": "T1tQx7oeRvtc",
        "outputId": "5476d959-f2e6-4291-a8e1-6f57e75aabed"
      },
      "execution_count": 35,
      "outputs": [
        {
          "output_type": "execute_result",
          "data": {
            "text/plain": [
              "tensor(1.0700)"
            ]
          },
          "metadata": {},
          "execution_count": 35
        }
      ]
    },
    {
      "cell_type": "code",
      "source": [
        "wei.var()"
      ],
      "metadata": {
        "colab": {
          "base_uri": "https://localhost:8080/"
        },
        "id": "MLb_odHU3iKM",
        "outputId": "a61a6dfd-f323-41f0-dcf4-b6c4092e85d2"
      },
      "execution_count": 36,
      "outputs": [
        {
          "output_type": "execute_result",
          "data": {
            "text/plain": [
              "tensor(1.0918)"
            ]
          },
          "metadata": {},
          "execution_count": 36
        }
      ]
    },
    {
      "cell_type": "code",
      "source": [
        "torch.softmax(torch.tensor([0.1, -0.2, 0.3, -0.2, 0.5]), dim=-1)"
      ],
      "metadata": {
        "colab": {
          "base_uri": "https://localhost:8080/"
        },
        "id": "JB82yzt44REI",
        "outputId": "2a9d00bf-cd7c-4d8f-a142-71ae3aa7ebe3"
      },
      "execution_count": 37,
      "outputs": [
        {
          "output_type": "execute_result",
          "data": {
            "text/plain": [
              "tensor([0.1925, 0.1426, 0.2351, 0.1426, 0.2872])"
            ]
          },
          "metadata": {},
          "execution_count": 37
        }
      ]
    },
    {
      "cell_type": "code",
      "source": [
        "torch.softmax(torch.tensor([0.1, -0.2, 0.3, -0.2, 0.5])*8, dim=-1) # gets too peaky, converges to one-hot"
      ],
      "metadata": {
        "colab": {
          "base_uri": "https://localhost:8080/"
        },
        "id": "Mpt8569BB9_f",
        "outputId": "fb9ead52-c9d4-43e5-fb31-5ceda6813789"
      },
      "execution_count": 38,
      "outputs": [
        {
          "output_type": "execute_result",
          "data": {
            "text/plain": [
              "tensor([0.0326, 0.0030, 0.1615, 0.0030, 0.8000])"
            ]
          },
          "metadata": {},
          "execution_count": 38
        }
      ]
    },
    {
      "cell_type": "code",
      "source": [
        "class LayerNorm1d: # (used to be BatchNorm1d)\n",
        "\n",
        "  def __init__(self, dim, eps=1e-5, momentum=0.1):\n",
        "    self.eps = eps\n",
        "    self.gamma = torch.ones(dim)\n",
        "    self.beta = torch.zeros(dim)\n",
        "\n",
        "  def __call__(self, x):\n",
        "    # calculate the forward pass\n",
        "    xmean = x.mean(1, keepdim=True) # batch mean\n",
        "    xvar = x.var(1, keepdim=True) # batch variance\n",
        "    xhat = (x - xmean) / torch.sqrt(xvar + self.eps) # normalize to unit variance\n",
        "    self.out = self.gamma * xhat + self.beta\n",
        "    return self.out\n",
        "\n",
        "  def parameters(self):\n",
        "    return [self.gamma, self.beta]\n",
        "\n",
        "torch.manual_seed(1337)\n",
        "module = LayerNorm1d(100)\n",
        "x = torch.randn(32, 100) # batch size 32 of 100-dimensional vectors\n",
        "x = module(x)\n",
        "x.shape"
      ],
      "metadata": {
        "colab": {
          "base_uri": "https://localhost:8080/"
        },
        "id": "2Num7sX9CKOH",
        "outputId": "20a4362d-5986-4310-e4a4-a2307cf0b8c9"
      },
      "execution_count": 39,
      "outputs": [
        {
          "output_type": "execute_result",
          "data": {
            "text/plain": [
              "torch.Size([32, 100])"
            ]
          },
          "metadata": {},
          "execution_count": 39
        }
      ]
    },
    {
      "cell_type": "code",
      "source": [
        "x[:,0].mean(), x[:,0].std() # mean,std of one feature across all batch inputs"
      ],
      "metadata": {
        "colab": {
          "base_uri": "https://localhost:8080/"
        },
        "id": "633T2cmnW1uk",
        "outputId": "6ea3a422-edf1-446b-cb80-6674bc6cdfdf"
      },
      "execution_count": 40,
      "outputs": [
        {
          "output_type": "execute_result",
          "data": {
            "text/plain": [
              "(tensor(0.1469), tensor(0.8803))"
            ]
          },
          "metadata": {},
          "execution_count": 40
        }
      ]
    },
    {
      "cell_type": "code",
      "source": [
        "x[0,:].mean(), x[0,:].std() # mean,std of a single input from the batch, of its features"
      ],
      "metadata": {
        "colab": {
          "base_uri": "https://localhost:8080/"
        },
        "id": "LN9cK9BoXCYb",
        "outputId": "567460be-78ce-44cd-fef1-ffc004c07c49"
      },
      "execution_count": 41,
      "outputs": [
        {
          "output_type": "execute_result",
          "data": {
            "text/plain": [
              "(tensor(-9.5367e-09), tensor(1.0000))"
            ]
          },
          "metadata": {},
          "execution_count": 41
        }
      ]
    },
    {
      "cell_type": "code",
      "source": [
        "# French to English translation example:\n",
        "\n",
        "# <--------- ENCODE ------------------><--------------- DECODE ----------------->\n",
        "# les réseaux de neurones sont géniaux! <START> neural networks are awesome!<END>\n",
        "\n"
      ],
      "metadata": {
        "id": "dRJH6wM_XFfU"
      },
      "execution_count": 42,
      "outputs": []
    },
    {
      "cell_type": "markdown",
      "source": [
        "### Full finished code, for reference\n",
        "\n",
        "You may want to refer directly to the git repo instead though."
      ],
      "metadata": {
        "id": "ZcvKeBXoZFOY"
      }
    },
    {
      "cell_type": "code",
      "source": [
        "import torch\n",
        "import torch.nn as nn\n",
        "from torch.nn import functional as F\n",
        "\n",
        "# hyperparameters\n",
        "batch_size = 16 # how many independent sequences will we process in parallel?\n",
        "block_size = 32 # what is the maximum context length for predictions?\n",
        "max_iters = 5000\n",
        "eval_interval = 100\n",
        "learning_rate = 1e-3\n",
        "device = 'cuda' if torch.cuda.is_available() else 'cpu'\n",
        "eval_iters = 200\n",
        "n_embd = 64\n",
        "n_head = 4\n",
        "n_layer = 4\n",
        "dropout = 0.0\n",
        "# ------------\n",
        "\n",
        "torch.manual_seed(1337)\n",
        "\n",
        "# wget https://imsdb.com/scripts/Interstellar.html/input.txt\n",
        "with open('input.txt', 'r', encoding='utf-8') as f:\n",
        "    text = f.read()\n",
        "\n",
        "# here are all the unique characters that occur in this text\n",
        "chars = sorted(list(set(text)))\n",
        "vocab_size = len(chars)\n",
        "# create a mapping from characters to integers\n",
        "stoi = { ch:i for i,ch in enumerate(chars) }\n",
        "itos = { i:ch for i,ch in enumerate(chars) }\n",
        "encode = lambda s: [stoi[c] for c in s] # encoder: take a string, output a list of integers\n",
        "decode = lambda l: ''.join([itos[i] for i in l]) # decoder: take a list of integers, output a string\n",
        "\n",
        "# Train and test splits\n",
        "data = torch.tensor(encode(text), dtype=torch.long)\n",
        "n = int(0.9*len(data)) # first 90% will be train, rest val\n",
        "train_data = data[:n]\n",
        "val_data = data[n:]\n",
        "\n",
        "# data loading\n",
        "def get_batch(split):\n",
        "    # generate a small batch of data of inputs x and targets y\n",
        "    data = train_data if split == 'train' else val_data\n",
        "    ix = torch.randint(len(data) - block_size, (batch_size,))\n",
        "    x = torch.stack([data[i:i+block_size] for i in ix])\n",
        "    y = torch.stack([data[i+1:i+block_size+1] for i in ix])\n",
        "    x, y = x.to(device), y.to(device)\n",
        "    return x, y\n",
        "\n",
        "@torch.no_grad()\n",
        "def estimate_loss():\n",
        "    out = {}\n",
        "    model.eval()\n",
        "    for split in ['train', 'val']:\n",
        "        losses = torch.zeros(eval_iters)\n",
        "        for k in range(eval_iters):\n",
        "            X, Y = get_batch(split)\n",
        "            logits, loss = model(X, Y)\n",
        "            losses[k] = loss.item()\n",
        "        out[split] = losses.mean()\n",
        "    model.train()\n",
        "    return out\n",
        "\n",
        "class Head(nn.Module):\n",
        "    \"\"\" one head of self-attention \"\"\"\n",
        "\n",
        "    def __init__(self, head_size):\n",
        "        super().__init__()\n",
        "        self.key = nn.Linear(n_embd, head_size, bias=False)\n",
        "        self.query = nn.Linear(n_embd, head_size, bias=False)\n",
        "        self.value = nn.Linear(n_embd, head_size, bias=False)\n",
        "        self.register_buffer('tril', torch.tril(torch.ones(block_size, block_size)))\n",
        "\n",
        "        self.dropout = nn.Dropout(dropout)\n",
        "\n",
        "    def forward(self, x):\n",
        "        B,T,C = x.shape\n",
        "        k = self.key(x)   # (B,T,C)\n",
        "        q = self.query(x) # (B,T,C)\n",
        "        # compute attention scores (\"affinities\")\n",
        "        wei = q @ k.transpose(-2,-1) * C**-0.5 # (B, T, C) @ (B, C, T) -> (B, T, T)\n",
        "        wei = wei.masked_fill(self.tril[:T, :T] == 0, float('-inf')) # (B, T, T)\n",
        "        wei = F.softmax(wei, dim=-1) # (B, T, T)\n",
        "        wei = self.dropout(wei)\n",
        "        # perform the weighted aggregation of the values\n",
        "        v = self.value(x) # (B,T,C)\n",
        "        out = wei @ v # (B, T, T) @ (B, T, C) -> (B, T, C)\n",
        "        return out\n",
        "\n",
        "class MultiHeadAttention(nn.Module):\n",
        "    \"\"\" multiple heads of self-attention in parallel \"\"\"\n",
        "\n",
        "    def __init__(self, num_heads, head_size):\n",
        "        super().__init__()\n",
        "        self.heads = nn.ModuleList([Head(head_size) for _ in range(num_heads)])\n",
        "        self.proj = nn.Linear(n_embd, n_embd)\n",
        "        self.dropout = nn.Dropout(dropout)\n",
        "\n",
        "    def forward(self, x):\n",
        "        out = torch.cat([h(x) for h in self.heads], dim=-1)\n",
        "        out = self.dropout(self.proj(out))\n",
        "        return out\n",
        "\n",
        "class FeedFoward(nn.Module):\n",
        "    \"\"\" a simple linear layer followed by a non-linearity \"\"\"\n",
        "\n",
        "    def __init__(self, n_embd):\n",
        "        super().__init__()\n",
        "        self.net = nn.Sequential(\n",
        "            nn.Linear(n_embd, 4 * n_embd),\n",
        "            nn.ReLU(),\n",
        "            nn.Linear(4 * n_embd, n_embd),\n",
        "            nn.Dropout(dropout),\n",
        "        )\n",
        "\n",
        "    def forward(self, x):\n",
        "        return self.net(x)\n",
        "\n",
        "class Block(nn.Module):\n",
        "    \"\"\" Transformer block: communication followed by computation \"\"\"\n",
        "\n",
        "    def __init__(self, n_embd, n_head):\n",
        "        # n_embd: embedding dimension, n_head: the number of heads we'd like\n",
        "        super().__init__()\n",
        "        head_size = n_embd // n_head\n",
        "        self.sa = MultiHeadAttention(n_head, head_size)\n",
        "        self.ffwd = FeedFoward(n_embd)\n",
        "        self.ln1 = nn.LayerNorm(n_embd)\n",
        "        self.ln2 = nn.LayerNorm(n_embd)\n",
        "\n",
        "    def forward(self, x):\n",
        "        x = x + self.sa(self.ln1(x))\n",
        "        x = x + self.ffwd(self.ln2(x))\n",
        "        return x\n",
        "\n",
        "# super simple bigram model\n",
        "class BigramLanguageModel(nn.Module):\n",
        "\n",
        "    def __init__(self):\n",
        "        super().__init__()\n",
        "        # each token directly reads off the logits for the next token from a lookup table\n",
        "        self.token_embedding_table = nn.Embedding(vocab_size, n_embd)\n",
        "        self.position_embedding_table = nn.Embedding(block_size, n_embd)\n",
        "        self.blocks = nn.Sequential(*[Block(n_embd, n_head=n_head) for _ in range(n_layer)])\n",
        "        self.ln_f = nn.LayerNorm(n_embd) # final layer norm\n",
        "        self.lm_head = nn.Linear(n_embd, vocab_size)\n",
        "\n",
        "    def forward(self, idx, targets=None):\n",
        "        B, T = idx.shape\n",
        "\n",
        "        # idx and targets are both (B,T) tensor of integers\n",
        "        tok_emb = self.token_embedding_table(idx) # (B,T,C)\n",
        "        pos_emb = self.position_embedding_table(torch.arange(T, device=device)) # (T,C)\n",
        "        x = tok_emb + pos_emb # (B,T,C)\n",
        "        x = self.blocks(x) # (B,T,C)\n",
        "        x = self.ln_f(x) # (B,T,C)\n",
        "        logits = self.lm_head(x) # (B,T,vocab_size)\n",
        "\n",
        "        if targets is None:\n",
        "            loss = None\n",
        "        else:\n",
        "            B, T, C = logits.shape\n",
        "            logits = logits.view(B*T, C)\n",
        "            targets = targets.view(B*T)\n",
        "            loss = F.cross_entropy(logits, targets)\n",
        "\n",
        "        return logits, loss\n",
        "\n",
        "    def generate(self, idx, max_new_tokens):\n",
        "        # idx is (B, T) array of indices in the current context\n",
        "        for _ in range(max_new_tokens):\n",
        "            # crop idx to the last block_size tokens\n",
        "            idx_cond = idx[:, -block_size:]\n",
        "            # get the predictions\n",
        "            logits, loss = self(idx_cond)\n",
        "            # focus only on the last time step\n",
        "            logits = logits[:, -1, :] # becomes (B, C)\n",
        "            # apply softmax to get probabilities\n",
        "            probs = F.softmax(logits, dim=-1) # (B, C)\n",
        "            # sample from the distribution\n",
        "            idx_next = torch.multinomial(probs, num_samples=1) # (B, 1)\n",
        "            # append sampled index to the running sequence\n",
        "            idx = torch.cat((idx, idx_next), dim=1) # (B, T+1)\n",
        "        return idx\n",
        "\n",
        "model = BigramLanguageModel()\n",
        "m = model.to(device)\n",
        "# print the number of parameters in the model\n",
        "print(sum(p.numel() for p in m.parameters())/1e6, 'M parameters')\n",
        "\n",
        "# create a PyTorch optimizer\n",
        "optimizer = torch.optim.AdamW(model.parameters(), lr=learning_rate)\n",
        "\n",
        "for iter in range(max_iters):\n",
        "\n",
        "    # every once in a while evaluate the loss on train and val sets\n",
        "    if iter % eval_interval == 0 or iter == max_iters - 1:\n",
        "        losses = estimate_loss()\n",
        "        print(f\"step {iter}: train loss {losses['train']:.4f}, val loss {losses['val']:.4f}\")\n",
        "\n",
        "    # sample a batch of data\n",
        "    xb, yb = get_batch('train')\n",
        "\n",
        "    # evaluate the loss\n",
        "    logits, loss = model(xb, yb)\n",
        "    optimizer.zero_grad(set_to_none=True)\n",
        "    loss.backward()\n",
        "    optimizer.step()\n",
        "\n",
        "# generate from the model\n",
        "context = torch.zeros((1, 1), dtype=torch.long, device=device)\n",
        "print(decode(m.generate(context, max_new_tokens=2000)[0].tolist()))\n"
      ],
      "metadata": {
        "colab": {
          "base_uri": "https://localhost:8080/"
        },
        "id": "hoelkOrFY8bN",
        "outputId": "846ac52d-2272-40ca-fb40-8a76cf3209ec"
      },
      "execution_count": 44,
      "outputs": [
        {
          "output_type": "stream",
          "name": "stdout",
          "text": [
            "0.212825 M parameters\n",
            "step 0: train loss 4.2045, val loss 4.2470\n",
            "step 100: train loss 1.9162, val loss 2.0341\n",
            "step 200: train loss 1.6410, val loss 1.8298\n",
            "step 300: train loss 1.5759, val loss 1.7320\n",
            "step 400: train loss 1.4917, val loss 1.7051\n",
            "step 500: train loss 1.4584, val loss 1.6520\n",
            "step 600: train loss 1.4429, val loss 1.5992\n",
            "step 700: train loss 1.3942, val loss 1.5734\n",
            "step 800: train loss 1.3380, val loss 1.5276\n",
            "step 900: train loss 1.3431, val loss 1.5086\n",
            "step 1000: train loss 1.3098, val loss 1.5090\n",
            "step 1100: train loss 1.2656, val loss 1.4910\n",
            "step 1200: train loss 1.2563, val loss 1.4644\n",
            "step 1300: train loss 1.2309, val loss 1.3957\n",
            "step 1400: train loss 1.2234, val loss 1.4050\n",
            "step 1500: train loss 1.2288, val loss 1.4039\n",
            "step 1600: train loss 1.1954, val loss 1.4010\n",
            "step 1700: train loss 1.1748, val loss 1.3707\n",
            "step 1800: train loss 1.1763, val loss 1.3989\n",
            "step 1900: train loss 1.1589, val loss 1.3670\n",
            "step 2000: train loss 1.1611, val loss 1.3908\n",
            "step 2100: train loss 1.1564, val loss 1.3714\n",
            "step 2200: train loss 1.1175, val loss 1.3741\n",
            "step 2300: train loss 1.1202, val loss 1.3575\n",
            "step 2400: train loss 1.1229, val loss 1.2874\n",
            "step 2500: train loss 1.1043, val loss 1.3424\n",
            "step 2600: train loss 1.1286, val loss 1.3250\n",
            "step 2700: train loss 1.0888, val loss 1.3080\n",
            "step 2800: train loss 1.0764, val loss 1.2875\n",
            "step 2900: train loss 1.0818, val loss 1.2954\n",
            "step 3000: train loss 1.0857, val loss 1.3167\n",
            "step 3100: train loss 1.0575, val loss 1.3056\n",
            "step 3200: train loss 1.0849, val loss 1.2818\n",
            "step 3300: train loss 1.0803, val loss 1.2793\n",
            "step 3400: train loss 1.0631, val loss 1.2729\n",
            "step 3500: train loss 1.0567, val loss 1.2784\n",
            "step 3600: train loss 1.0525, val loss 1.2810\n",
            "step 3700: train loss 1.0493, val loss 1.2904\n",
            "step 3800: train loss 1.0268, val loss 1.2528\n",
            "step 3900: train loss 1.0039, val loss 1.2432\n",
            "step 4000: train loss 1.0319, val loss 1.2438\n",
            "step 4100: train loss 1.0232, val loss 1.2621\n",
            "step 4200: train loss 1.0255, val loss 1.2638\n",
            "step 4300: train loss 1.0402, val loss 1.2560\n",
            "step 4400: train loss 1.0097, val loss 1.2416\n",
            "step 4500: train loss 1.0167, val loss 1.2596\n",
            "step 4600: train loss 1.0154, val loss 1.2434\n",
            "step 4700: train loss 0.9986, val loss 1.2368\n",
            "step 4800: train loss 0.9964, val loss 1.2500\n",
            "step 4900: train loss 0.9994, val loss 1.2126\n",
            "step 4999: train loss 0.9961, val loss 1.2389\n",
            "\t for that abour. The igge fincal in sit tickes on the moyes rotican It hall.\n",
            "                         \n",
            "          They, bevery on sime corentater.\n",
            "                         \n",
            "          Doyle sometongred fis\n",
            "           suits hem taony. I han bviste as going that. Sawall me by holuts, one metlich.\n",
            "                         \n",
            "<b>                          BRAND\n",
            "</b>           I try complet harocly thall planet pull it on agners tong them\n",
            "           of is couSken, drided.\n",
            "                         \n",
            "          Cooper stands.\n",
            "                       \n",
            "<b>                          COOPER'S ENDURANCCE (CONT'D)\n",
            "</b>           You're not the worrmholed a\n",
            "           to by a wall way on could begins to he\n",
            "          watech spaces point of the plactomate.\n",
            "                         \n",
            "          Afteret..)\n",
            "<b>    71131spory we don't randiageLLOOOOCOPER HICH, SPARTIOND MADENT (CONT'D)\n",
            "</b>           Shundurand a topsticans thi movies the sefalf to\n",
            "            mousel in they feacing. You\n",
            "                         \n",
            "<b>                          COOPER\n",
            "</b><b>                         \n",
            "<b>                          COOPER ('Dgbe pases themse ship down\n",
            "          pisewing.\n",
            "                         \n",
            "          For ripes works of the oldired re?\n",
            "                         \n",
            "<b>                          CLIESET -- DAWIRTHT\n",
            "</b><trin> tr> ham has his Mase hills of tle eas thneself that and the a set water on this chip ship, spicece0s. Casew kin as his, of an sy to din't syable pUGLEL\n",
            "</b><table necond takem wallly to nowss a longing to the Ih sadesing aring then e\n",
            "       nothicicabod back of that intorgear.\n",
            "                         \n",
            "<b>           IRPAN\n",
            "<volleby that's the scome litsel\n",
            "          out det this diggners to so strurn. He this reare leanger looks on has bover. They, wawkway\n",
            "          insitan firtm-thay abary, poyle, sping in beingins up poincatan inwonre dispan saws rocknol the\n",
            "           stand.\n",
            "                         \n",
            "          Cooper a dandfter as horicaped Doyle texcin and\n",
            "          makine Mare a\n"
          ]
        }
      ]
    },
    {
      "cell_type": "code",
      "source": [],
      "metadata": {
        "id": "fjjvMifYZf7x"
      },
      "execution_count": null,
      "outputs": []
    }
  ]
}